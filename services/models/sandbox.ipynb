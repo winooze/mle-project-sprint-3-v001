{
 "cells": [
  {
   "cell_type": "code",
   "execution_count": 1,
   "metadata": {},
   "outputs": [],
   "source": [
    "from catboost import CatBoostRegressor"
   ]
  },
  {
   "cell_type": "code",
   "execution_count": 2,
   "metadata": {},
   "outputs": [
    {
     "data": {
      "text/plain": [
       "['is_apartment',\n",
       " 'studio',\n",
       " 'has_elevator',\n",
       " 'building_type_int',\n",
       " 'floor',\n",
       " 'kitchen_area',\n",
       " 'living_area',\n",
       " 'rooms',\n",
       " 'total_area',\n",
       " 'build_year',\n",
       " 'latitude',\n",
       " 'longitude',\n",
       " 'ceiling_height',\n",
       " 'flats_count',\n",
       " 'floors_total']"
      ]
     },
     "execution_count": 2,
     "metadata": {},
     "output_type": "execute_result"
    }
   ],
   "source": [
    "mdl = CatBoostRegressor()\n",
    "mdl.load_model(fname='/home/mle-user/mle-projects/mle-project-sprint-3-v001/services/models/estate_best_model.cbm') \n",
    "mdl.feature_names_\n"
   ]
  },
  {
   "cell_type": "code",
   "execution_count": 3,
   "metadata": {},
   "outputs": [
    {
     "name": "stdout",
     "output_type": "stream",
     "text": [
      "<class 'pandas.core.frame.DataFrame'>\n",
      "RangeIndex: 103493 entries, 0 to 103492\n",
      "Data columns (total 18 columns):\n",
      " #   Column             Non-Null Count   Dtype  \n",
      "---  ------             --------------   -----  \n",
      " 0   Unnamed: 0         103493 non-null  int64  \n",
      " 1   building_id        103493 non-null  int64  \n",
      " 2   floor              103493 non-null  int64  \n",
      " 3   kitchen_area       103493 non-null  float64\n",
      " 4   living_area        103493 non-null  float64\n",
      " 5   rooms              103493 non-null  int64  \n",
      " 6   is_apartment       103493 non-null  bool   \n",
      " 7   studio             103493 non-null  bool   \n",
      " 8   total_area         103493 non-null  float64\n",
      " 9   target             103493 non-null  float64\n",
      " 10  build_year         103493 non-null  int64  \n",
      " 11  building_type_int  103493 non-null  int64  \n",
      " 12  latitude           103493 non-null  float64\n",
      " 13  longitude          103493 non-null  float64\n",
      " 14  ceiling_height     103493 non-null  float64\n",
      " 15  flats_count        103493 non-null  int64  \n",
      " 16  floors_total       103493 non-null  int64  \n",
      " 17  has_elevator       103493 non-null  bool   \n",
      "dtypes: bool(3), float64(7), int64(8)\n",
      "memory usage: 12.1 MB\n"
     ]
    }
   ],
   "source": [
    "import pandas as pd \n",
    "train_data = pd.read_csv('/home/mle-user/mle-projects/mle-project-sprint-2-v001/artifacts/train_data.csv')\n",
    "train_data.info()"
   ]
  },
  {
   "cell_type": "code",
   "execution_count": 4,
   "metadata": {},
   "outputs": [
    {
     "data": {
      "text/plain": [
       "array([ 7.92988252, 15.02738494, 12.8167198 , ...,  9.69325117,\n",
       "        9.59172743,  8.42693035])"
      ]
     },
     "execution_count": 4,
     "metadata": {},
     "output_type": "execute_result"
    }
   ],
   "source": [
    "mdl.predict(train_data[mdl.feature_names_])"
   ]
  },
  {
   "cell_type": "code",
   "execution_count": null,
   "metadata": {},
   "outputs": [],
   "source": []
  }
 ],
 "metadata": {
  "kernelspec": {
   "display_name": ".venv_project_2",
   "language": "python",
   "name": "python3"
  },
  "language_info": {
   "codemirror_mode": {
    "name": "ipython",
    "version": 3
   },
   "file_extension": ".py",
   "mimetype": "text/x-python",
   "name": "python",
   "nbconvert_exporter": "python",
   "pygments_lexer": "ipython3",
   "version": "3.10.12"
  }
 },
 "nbformat": 4,
 "nbformat_minor": 2
}
