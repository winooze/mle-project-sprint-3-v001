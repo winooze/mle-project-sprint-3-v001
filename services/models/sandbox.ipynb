{
 "cells": [
  {
   "cell_type": "code",
   "execution_count": null,
   "metadata": {},
   "outputs": [],
   "source": [
    "from catboost import CatBoostRegressor"
   ]
  },
  {
   "cell_type": "code",
   "execution_count": 1,
   "metadata": {},
   "outputs": [
    {
     "ename": "NameError",
     "evalue": "name 'CatBoostRegressor' is not defined",
     "output_type": "error",
     "traceback": [
      "\u001b[0;31m---------------------------------------------------------------------------\u001b[0m",
      "\u001b[0;31mNameError\u001b[0m                                 Traceback (most recent call last)",
      "Cell \u001b[0;32mIn[1], line 1\u001b[0m\n\u001b[0;32m----> 1\u001b[0m mdl \u001b[38;5;241m=\u001b[39m \u001b[43mCatBoostRegressor\u001b[49m()\n\u001b[1;32m      2\u001b[0m mdl\u001b[38;5;241m.\u001b[39mload_model(fname\u001b[38;5;241m=\u001b[39m\u001b[38;5;124m'\u001b[39m\u001b[38;5;124m/home/mle-user/mle-projects/mle-project-sprint-3-v001/services/models/estate_best_model.cbm\u001b[39m\u001b[38;5;124m'\u001b[39m) \n\u001b[1;32m      3\u001b[0m mdl\u001b[38;5;241m.\u001b[39mfeature_names_\n",
      "\u001b[0;31mNameError\u001b[0m: name 'CatBoostRegressor' is not defined"
     ]
    }
   ],
   "source": [
    "mdl = CatBoostRegressor()\n",
    "mdl.load_model(fname='/home/mle-user/mle-projects/mle-project-sprint-3-v001/services/models/estate_best_model.cbm') \n",
    "mdl.feature_names_\n"
   ]
  },
  {
   "cell_type": "code",
   "execution_count": null,
   "metadata": {},
   "outputs": [
    {
     "name": "stdout",
     "output_type": "stream",
     "text": [
      "<class 'pandas.core.frame.DataFrame'>\n",
      "RangeIndex: 103493 entries, 0 to 103492\n",
      "Data columns (total 18 columns):\n",
      " #   Column             Non-Null Count   Dtype  \n",
      "---  ------             --------------   -----  \n",
      " 0   Unnamed: 0         103493 non-null  int64  \n",
      " 1   building_id        103493 non-null  int64  \n",
      " 2   floor              103493 non-null  int64  \n",
      " 3   kitchen_area       103493 non-null  float64\n",
      " 4   living_area        103493 non-null  float64\n",
      " 5   rooms              103493 non-null  int64  \n",
      " 6   is_apartment       103493 non-null  bool   \n",
      " 7   studio             103493 non-null  bool   \n",
      " 8   total_area         103493 non-null  float64\n",
      " 9   target             103493 non-null  float64\n",
      " 10  build_year         103493 non-null  int64  \n",
      " 11  building_type_int  103493 non-null  int64  \n",
      " 12  latitude           103493 non-null  float64\n",
      " 13  longitude          103493 non-null  float64\n",
      " 14  ceiling_height     103493 non-null  float64\n",
      " 15  flats_count        103493 non-null  int64  \n",
      " 16  floors_total       103493 non-null  int64  \n",
      " 17  has_elevator       103493 non-null  bool   \n",
      "dtypes: bool(3), float64(7), int64(8)\n",
      "memory usage: 12.1 MB\n"
     ]
    }
   ],
   "source": [
    "import pandas as pd \n",
    "train_data = pd.read_csv('/home/mle-user/mle-projects/mle-project-sprint-2-v001/artifacts/train_data.csv')\n",
    "train_data.info()"
   ]
  },
  {
   "cell_type": "code",
   "execution_count": null,
   "metadata": {},
   "outputs": [
    {
     "data": {
      "text/plain": [
       "array([ 7.92988252, 15.02738494, 12.8167198 , ...,  9.69325117,\n",
       "        9.59172743,  8.42693035])"
      ]
     },
     "execution_count": 4,
     "metadata": {},
     "output_type": "execute_result"
    }
   ],
   "source": [
    "mdl.predict(train_data[mdl.feature_names_])"
   ]
  },
  {
   "cell_type": "code",
   "execution_count": 2,
   "metadata": {},
   "outputs": [],
   "source": [
    "import requests"
   ]
  },
  {
   "cell_type": "code",
   "execution_count": 5,
   "metadata": {},
   "outputs": [
    {
     "name": "stdout",
     "output_type": "stream",
     "text": [
      "{'id': '394', 'model_params': {'is_apartment': False, 'studio': False, 'has_elevator': True, 'building_type_int': 9, 'floor': 14, 'kitchen_area': 8.621, 'living_area': 25.098, 'rooms': 1, 'total_area': 187.879, 'build_year': 1976, 'latitude': 55.139, 'longitude': 37.812, 'ceiling_height': 3.253, 'flats_count': 402, 'floors_total': 24}}\n"
     ]
    }
   ],
   "source": [
    "import random\n",
    "import copy\n",
    "\n",
    "def generate_random_data():\n",
    "    # Original template\n",
    "    data = {\n",
    "        \"id\": \"123\",\n",
    "        \"model_params\": {\n",
    "            \"is_apartment\": False,\n",
    "            \"studio\": False,\n",
    "            \"has_elevator\": True,\n",
    "            \"building_type_int\": 4,\n",
    "            \"floor\": 5,\n",
    "            \"kitchen_area\": 8.0,\n",
    "            \"living_area\": 56.0,\n",
    "            \"rooms\": 2,\n",
    "            \"total_area\": 52.0,\n",
    "            \"build_year\": 2007,\n",
    "            \"latitude\": 55.72347640991211,\n",
    "            \"longitude\": 37.903202056884766,\n",
    "            \"ceiling_height\": 2.740000009536743,\n",
    "            \"flats_count\": 376,\n",
    "            \"floors_total\": 11\n",
    "        }\n",
    "    }\n",
    "    \n",
    "    # Create a deep copy to modify\n",
    "    modified_data = copy.deepcopy(data)\n",
    "    \n",
    "    # Define ranges for each numerical parameter\n",
    "    ranges = {\n",
    "        \"building_type_int\": (1, 10),\n",
    "        \"floor\": (1, 30),\n",
    "        \"kitchen_area\": (5.0, 20.0),\n",
    "        \"living_area\": (20.0, 150.0),\n",
    "        \"rooms\": (1, 5),\n",
    "        \"total_area\": (30.0, 200.0),\n",
    "        \"build_year\": (1950, 2023),\n",
    "        \"latitude\": (55.0, 56.0),\n",
    "        \"longitude\": (37.0, 38.0),\n",
    "        \"ceiling_height\": (2.5, 3.5),\n",
    "        \"flats_count\": (50, 500),\n",
    "        \"floors_total\": (1, 25)\n",
    "    }\n",
    "    \n",
    "    # Randomly modify each numerical value\n",
    "    for key in ranges:\n",
    "        if key in modified_data[\"model_params\"]:\n",
    "            min_val, max_val = ranges[key]\n",
    "            \n",
    "            if isinstance(modified_data[\"model_params\"][key], int):\n",
    "                modified_data[\"model_params\"][key] = random.randint(min_val, max_val)\n",
    "            else:\n",
    "                modified_data[\"model_params\"][key] = round(random.uniform(min_val, max_val), 3)\n",
    "    \n",
    "    # Also randomize the ID\n",
    "    modified_data[\"id\"] = str(random.randint(100, 999))\n",
    "    \n",
    "    return modified_data\n",
    "\n",
    "# Example usage\n",
    "if __name__ == \"__main__\":\n",
    "    random_data = generate_random_data()\n",
    "    print(random_data)"
   ]
  },
  {
   "cell_type": "code",
   "execution_count": null,
   "metadata": {},
   "outputs": [
    {
     "name": "stdout",
     "output_type": "stream",
     "text": [
      "Status Code: 200\n",
      "Response:\n",
      "{\n",
      "  \"id\": \"394\",\n",
      "  \"prediction\": 9.62\n",
      "}\n"
     ]
    }
   ],
   "source": [
    "import requests\n",
    "import json\n",
    "\n",
    "url = \"http://127.0.0.1:8000/api/score_estate/\"\n",
    "headers = {\n",
    "    \"accept\": \"application/json\",\n",
    "    \"Content-Type\": \"application/json\"\n",
    "}\n",
    "\n",
    "\n",
    "response = requests.post(url, params={\"id\":random_data['id']}, headers=headers, json=random_data['model_params'])\n",
    "\n",
    "print(f\"Status Code: {response.status_code}\")\n",
    "print(\"Response:\")\n",
    "print(json.dumps(response.json(), indent=2))"
   ]
  },
  {
   "cell_type": "code",
   "execution_count": null,
   "metadata": {},
   "outputs": [],
   "source": [
    "for i in "
   ]
  }
 ],
 "metadata": {
  "kernelspec": {
   "display_name": ".venv_project_2",
   "language": "python",
   "name": "python3"
  },
  "language_info": {
   "codemirror_mode": {
    "name": "ipython",
    "version": 3
   },
   "file_extension": ".py",
   "mimetype": "text/x-python",
   "name": "python",
   "nbconvert_exporter": "python",
   "pygments_lexer": "ipython3",
   "version": "3.10.12"
  }
 },
 "nbformat": 4,
 "nbformat_minor": 2
}
